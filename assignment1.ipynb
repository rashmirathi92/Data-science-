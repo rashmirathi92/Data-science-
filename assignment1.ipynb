{
 "cells": [
  {
   "cell_type": "code",
   "execution_count": 4,
   "id": "20a86601-d256-4910-a94e-d3f22f0bfa00",
   "metadata": {},
   "outputs": [],
   "source": [
    "a =\"rashmi\""
   ]
  },
  {
   "cell_type": "code",
   "execution_count": 5,
   "id": "b673c63a-8499-4aaa-9a0f-412a33987449",
   "metadata": {},
   "outputs": [
    {
     "data": {
      "text/plain": [
       "'rashmi'"
      ]
     },
     "execution_count": 5,
     "metadata": {},
     "output_type": "execute_result"
    }
   ],
   "source": [
    "a"
   ]
  },
  {
   "cell_type": "code",
   "execution_count": 6,
   "id": "4dc66347-9067-4cb6-81ff-bba0dff876dd",
   "metadata": {},
   "outputs": [
    {
     "data": {
      "text/plain": [
       "str"
      ]
     },
     "execution_count": 6,
     "metadata": {},
     "output_type": "execute_result"
    }
   ],
   "source": [
    "type(a)"
   ]
  },
  {
   "cell_type": "code",
   "execution_count": 7,
   "id": "405d4b01-d629-4ea0-bc60-575f2f74bd33",
   "metadata": {},
   "outputs": [],
   "source": [
    "c=2.0"
   ]
  },
  {
   "cell_type": "code",
   "execution_count": 8,
   "id": "383e2433-9f1f-494e-bf0e-e7ffccc1e6d5",
   "metadata": {},
   "outputs": [
    {
     "data": {
      "text/plain": [
       "2.0"
      ]
     },
     "execution_count": 8,
     "metadata": {},
     "output_type": "execute_result"
    }
   ],
   "source": [
    "c"
   ]
  },
  {
   "cell_type": "code",
   "execution_count": 9,
   "id": "a198c595-7797-488b-9e5e-8a421272c01a",
   "metadata": {},
   "outputs": [
    {
     "data": {
      "text/plain": [
       "float"
      ]
     },
     "execution_count": 9,
     "metadata": {},
     "output_type": "execute_result"
    }
   ],
   "source": [
    "type(c)"
   ]
  },
  {
   "cell_type": "code",
   "execution_count": 10,
   "id": "a477b25e-893d-45e4-a529-a6488e1e39e8",
   "metadata": {},
   "outputs": [],
   "source": [
    "l=[1,2,3,4,\"rash\"]"
   ]
  },
  {
   "cell_type": "code",
   "execution_count": 11,
   "id": "07c32738-bff2-4938-b6ae-b3e9c3f6d901",
   "metadata": {},
   "outputs": [
    {
     "data": {
      "text/plain": [
       "[1, 2, 3, 4, 'rash']"
      ]
     },
     "execution_count": 11,
     "metadata": {},
     "output_type": "execute_result"
    }
   ],
   "source": [
    "l"
   ]
  },
  {
   "cell_type": "code",
   "execution_count": 12,
   "id": "854c8317-e9c1-4015-89be-63e07893ff81",
   "metadata": {},
   "outputs": [
    {
     "data": {
      "text/plain": [
       "list"
      ]
     },
     "execution_count": 12,
     "metadata": {},
     "output_type": "execute_result"
    }
   ],
   "source": [
    "type(l)"
   ]
  },
  {
   "cell_type": "code",
   "execution_count": 13,
   "id": "66abedf4-4210-4ceb-956b-ff7bd62c3ac7",
   "metadata": {},
   "outputs": [
    {
     "data": {
      "text/plain": [
       "1"
      ]
     },
     "execution_count": 13,
     "metadata": {},
     "output_type": "execute_result"
    }
   ],
   "source": [
    "l[0]"
   ]
  },
  {
   "cell_type": "code",
   "execution_count": 14,
   "id": "8f3d70ba-c2c4-411b-8623-d7c7cae12f61",
   "metadata": {},
   "outputs": [
    {
     "data": {
      "text/plain": [
       "2"
      ]
     },
     "execution_count": 14,
     "metadata": {},
     "output_type": "execute_result"
    }
   ],
   "source": [
    "l[1]"
   ]
  },
  {
   "cell_type": "code",
   "execution_count": 15,
   "id": "61bb3a2f-722f-478d-bfcd-b075fbabc217",
   "metadata": {},
   "outputs": [
    {
     "data": {
      "text/plain": [
       "3"
      ]
     },
     "execution_count": 15,
     "metadata": {},
     "output_type": "execute_result"
    }
   ],
   "source": [
    "l[2]"
   ]
  },
  {
   "cell_type": "code",
   "execution_count": 16,
   "id": "37558917-36c4-4ad3-8f7d-f944f505f621",
   "metadata": {},
   "outputs": [
    {
     "data": {
      "text/plain": [
       "4"
      ]
     },
     "execution_count": 16,
     "metadata": {},
     "output_type": "execute_result"
    }
   ],
   "source": [
    "l[3]"
   ]
  },
  {
   "cell_type": "code",
   "execution_count": 17,
   "id": "f4dc35e3-8e5d-4089-baef-19aea0891330",
   "metadata": {},
   "outputs": [
    {
     "data": {
      "text/plain": [
       "'rash'"
      ]
     },
     "execution_count": 17,
     "metadata": {},
     "output_type": "execute_result"
    }
   ],
   "source": [
    "l[4]"
   ]
  },
  {
   "cell_type": "code",
   "execution_count": 18,
   "id": "d4bff7a4-ab87-4cf2-92dc-223bcc56a82a",
   "metadata": {},
   "outputs": [],
   "source": [
    "var1= \"\""
   ]
  },
  {
   "cell_type": "code",
   "execution_count": 38,
   "id": "d6de9bf0-a667-44a5-8779-599a9b82208c",
   "metadata": {},
   "outputs": [
    {
     "data": {
      "text/plain": [
       "''"
      ]
     },
     "execution_count": 38,
     "metadata": {},
     "output_type": "execute_result"
    }
   ],
   "source": [
    "var1"
   ]
  },
  {
   "cell_type": "code",
   "execution_count": 20,
   "id": "407d0c63-1169-4a28-8189-3c05c80b76a8",
   "metadata": {},
   "outputs": [],
   "source": [
    "var2=['DS','ML','PYTHON']"
   ]
  },
  {
   "cell_type": "code",
   "execution_count": 21,
   "id": "f6935ca2-e6dd-4f47-9a99-9c5f4a390ca1",
   "metadata": {},
   "outputs": [
    {
     "data": {
      "text/plain": [
       "['DS', 'ML', 'PYTHON']"
      ]
     },
     "execution_count": 21,
     "metadata": {},
     "output_type": "execute_result"
    }
   ],
   "source": [
    "var2"
   ]
  },
  {
   "cell_type": "code",
   "execution_count": 22,
   "id": "26f796c5-a2fc-41ae-adf6-e9af8bc3e6ac",
   "metadata": {},
   "outputs": [
    {
     "data": {
      "text/plain": [
       "list"
      ]
     },
     "execution_count": 22,
     "metadata": {},
     "output_type": "execute_result"
    }
   ],
   "source": [
    "type(var2)"
   ]
  },
  {
   "cell_type": "code",
   "execution_count": 23,
   "id": "1aebd2d0-146c-49f4-a645-e53fcc8104c9",
   "metadata": {},
   "outputs": [
    {
     "data": {
      "text/plain": [
       "str"
      ]
     },
     "execution_count": 23,
     "metadata": {},
     "output_type": "execute_result"
    }
   ],
   "source": [
    "type(var1)"
   ]
  },
  {
   "cell_type": "code",
   "execution_count": 24,
   "id": "2642f740-6a69-4718-9a4e-09bf20625508",
   "metadata": {},
   "outputs": [],
   "source": [
    "var3=['DS','ML','PYTHON']"
   ]
  },
  {
   "cell_type": "code",
   "execution_count": 25,
   "id": "1174eb85-c2aa-424f-9508-85f997ecacdf",
   "metadata": {},
   "outputs": [
    {
     "data": {
      "text/plain": [
       "['DS', 'ML', 'PYTHON']"
      ]
     },
     "execution_count": 25,
     "metadata": {},
     "output_type": "execute_result"
    }
   ],
   "source": [
    "var3"
   ]
  },
  {
   "cell_type": "code",
   "execution_count": 26,
   "id": "4392a387-b135-4652-841d-15120da101f3",
   "metadata": {},
   "outputs": [
    {
     "data": {
      "text/plain": [
       "list"
      ]
     },
     "execution_count": 26,
     "metadata": {},
     "output_type": "execute_result"
    }
   ],
   "source": [
    "type(var3)"
   ]
  },
  {
   "cell_type": "code",
   "execution_count": 27,
   "id": "dd0ef5ed-18e1-48a0-ae32-e57f3a6e3c50",
   "metadata": {},
   "outputs": [],
   "source": [
    "var4=1"
   ]
  },
  {
   "cell_type": "code",
   "execution_count": 28,
   "id": "320fafb4-40de-46f6-8cfc-654d93811c5c",
   "metadata": {},
   "outputs": [
    {
     "data": {
      "text/plain": [
       "1"
      ]
     },
     "execution_count": 28,
     "metadata": {},
     "output_type": "execute_result"
    }
   ],
   "source": [
    "var4"
   ]
  },
  {
   "cell_type": "code",
   "execution_count": 39,
   "id": "c9c4ebfa-64b2-4846-92cc-cb3144fd887d",
   "metadata": {},
   "outputs": [
    {
     "data": {
      "text/plain": [
       "int"
      ]
     },
     "execution_count": 39,
     "metadata": {},
     "output_type": "execute_result"
    }
   ],
   "source": [
    "type(var4)"
   ]
  },
  {
   "cell_type": "code",
   "execution_count": 30,
   "id": "b5da3fdf-9685-446a-b2b7-32a675a2f010",
   "metadata": {},
   "outputs": [
    {
     "data": {
      "text/plain": [
       "1.0"
      ]
     },
     "execution_count": 30,
     "metadata": {},
     "output_type": "execute_result"
    }
   ],
   "source": [
    "2/2 # this is a divisible operater"
   ]
  },
  {
   "cell_type": "code",
   "execution_count": 31,
   "id": "2591cd40-3311-48f4-83ab-bc309feb739c",
   "metadata": {},
   "outputs": [
    {
     "data": {
      "text/plain": [
       "1"
      ]
     },
     "execution_count": 31,
     "metadata": {},
     "output_type": "execute_result"
    }
   ],
   "source": [
    "5%2 # this is a percentile operater which gives us remainder"
   ]
  },
  {
   "cell_type": "code",
   "execution_count": 32,
   "id": "d5e94d73-0874-4057-8dbd-cd462e561ef2",
   "metadata": {},
   "outputs": [
    {
     "data": {
      "text/plain": [
       "2"
      ]
     },
     "execution_count": 32,
     "metadata": {},
     "output_type": "execute_result"
    }
   ],
   "source": [
    "6//3 # this is a division flour which gives us quotient"
   ]
  },
  {
   "cell_type": "code",
   "execution_count": 33,
   "id": "4b08fe10-03c6-4c2b-bdd6-f6e97f6e3d1d",
   "metadata": {},
   "outputs": [
    {
     "data": {
      "text/plain": [
       "64"
      ]
     },
     "execution_count": 33,
     "metadata": {},
     "output_type": "execute_result"
    }
   ],
   "source": [
    "4**3 # this is a power operater which gives us power of 4"
   ]
  },
  {
   "cell_type": "code",
   "execution_count": 34,
   "id": "b779a147-dde4-420f-8966-ec37dd38ee60",
   "metadata": {},
   "outputs": [],
   "source": [
    "l=[10,20,20.5,True,\"pooja\",\"pwskill\",9+2j,4/2,False,3-2j]"
   ]
  },
  {
   "cell_type": "code",
   "execution_count": 35,
   "id": "64d2bc1a-2b29-4f54-a653-4ffdef82f149",
   "metadata": {},
   "outputs": [
    {
     "data": {
      "text/plain": [
       "[10, 20, 20.5, True, 'pooja', 'pwskill', (9+2j), 2.0, False, (3-2j)]"
      ]
     },
     "execution_count": 35,
     "metadata": {},
     "output_type": "execute_result"
    }
   ],
   "source": [
    "l"
   ]
  },
  {
   "cell_type": "code",
   "execution_count": 36,
   "id": "1c5c7250-066b-4368-bd61-c046b9aa402d",
   "metadata": {},
   "outputs": [
    {
     "data": {
      "text/plain": [
       "list"
      ]
     },
     "execution_count": 36,
     "metadata": {},
     "output_type": "execute_result"
    }
   ],
   "source": [
    "type(l)"
   ]
  },
  {
   "cell_type": "code",
   "execution_count": null,
   "id": "8119e580-997f-4190-b68f-f45148d88ae3",
   "metadata": {},
   "outputs": [],
   "source": [
    "# create a list of length 10 of your choice containing multiple type of data using for loop print the element and its data type"
   ]
  },
  {
   "cell_type": "code",
   "execution_count": 95,
   "id": "2a8042a3-03c4-489b-ba36-ec7937ac2cf4",
   "metadata": {},
   "outputs": [
    {
     "name": "stdout",
     "output_type": "stream",
     "text": [
      "10\n",
      "<class 'int'>\n",
      "20\n",
      "<class 'int'>\n",
      "20.5\n",
      "<class 'float'>\n",
      "True\n",
      "<class 'bool'>\n",
      "pooja\n",
      "<class 'str'>\n",
      "pwskill\n",
      "<class 'str'>\n",
      "(9+2j)\n",
      "<class 'complex'>\n",
      "2.0\n",
      "<class 'float'>\n",
      "False\n",
      "<class 'bool'>\n",
      "(3-2j)\n",
      "<class 'complex'>\n",
      "this will be executed once for loop will complete itself succefully\n"
     ]
    }
   ],
   "source": [
    "l=[10,20,20.5,True,\"pooja\",\"pwskill\",9+2j,4/2,False,3-2j]\n",
    "for i in l:\n",
    "    print(i)\n",
    "    print(type(i))\n",
    "    \n",
    "else:\n",
    "    print(\"this will be executed once for loop will complete itself succefully\")"
   ]
  },
  {
   "cell_type": "code",
   "execution_count": 18,
   "id": "c3ec5525-6ee2-4c8f-99f0-6d599693d44e",
   "metadata": {},
   "outputs": [],
   "source": [
    "# using a while loop verify if the number A is purely divisible by number B and if so then how many times it can be divisible"
   ]
  },
  {
   "cell_type": "code",
   "execution_count": 66,
   "id": "b72e9012-3f6c-4e84-a476-3c3dd3205ca5",
   "metadata": {},
   "outputs": [
    {
     "name": "stdout",
     "output_type": "stream",
     "text": [
      "yes a is divisible by b\n",
      "0\n",
      "50.0\n",
      "2\n",
      "1\n",
      "yes a is divisible by b\n",
      "0\n",
      "25.0\n",
      "4\n",
      "2\n",
      "a is divisible by b -  2 times\n"
     ]
    }
   ],
   "source": [
    "a=2\n",
    "b=100\n",
    "n=10\n",
    "i=0\n",
    "y=0\n",
    "z=0\n",
    "while i<n:\n",
    "    c=a*(i+1)          # a new variable for dividing the i th time\n",
    "    z=b%c              # to calculate remainder after dividing it i th time\n",
    "    y=b/c              # quotient after dividing i th time\n",
    "    if z==0:\n",
    "        i=i+1\n",
    "        print(\"yes a is divisible by b\")\n",
    "        print(z)\n",
    "        print(y)\n",
    "        print(c)\n",
    "        print(i)\n",
    "    else: break\n",
    "  \n",
    "print(\"a is divisible by b - \", i,\"times\" )  \n",
    "    "
   ]
  },
  {
   "cell_type": "code",
   "execution_count": 38,
   "id": "b8573560-072c-4bbb-9dbb-1f68bc8f4959",
   "metadata": {},
   "outputs": [],
   "source": [
    "#create a list containing 25 int type data using for loop and if else condition print if the element is divisible by 3 or not"
   ]
  },
  {
   "cell_type": "code",
   "execution_count": 128,
   "id": "447b7e64-6de5-4723-984e-7fbaa0dd2f82",
   "metadata": {},
   "outputs": [
    {
     "name": "stdout",
     "output_type": "stream",
     "text": [
      "[1, 4, 9, 16, 25, 36, 49, 64, 81, 100, 121, 144, 169, 196, 225, 256, 289, 324, 361, 400, 441, 484, 529, 576, 625]\n",
      " h is not divisible by 3\n",
      " h is not divisible by 3\n",
      "yes h is divisible by 3\n",
      " h is not divisible by 3\n",
      " h is not divisible by 3\n",
      "yes h is divisible by 3\n",
      " h is not divisible by 3\n",
      " h is not divisible by 3\n",
      "yes h is divisible by 3\n",
      " h is not divisible by 3\n",
      " h is not divisible by 3\n",
      "yes h is divisible by 3\n",
      " h is not divisible by 3\n",
      " h is not divisible by 3\n",
      "yes h is divisible by 3\n",
      " h is not divisible by 3\n",
      " h is not divisible by 3\n",
      "yes h is divisible by 3\n",
      " h is not divisible by 3\n",
      " h is not divisible by 3\n",
      "yes h is divisible by 3\n",
      " h is not divisible by 3\n",
      " h is not divisible by 3\n",
      "yes h is divisible by 3\n",
      " h is not divisible by 3\n"
     ]
    }
   ],
   "source": [
    "i=0\n",
    "n=25\n",
    "h=[]\n",
    "for i in range(1,n+1,1):\n",
    "    h.append(i*i)\n",
    "print(h) \n",
    "for i in h:\n",
    "    if i%3==0:\n",
    "        print(\"yes h is divisible by 3\")\n",
    "    else:\n",
    "        print(\" h is not divisible by 3\")"
   ]
  },
  {
   "cell_type": "code",
   "execution_count": 129,
   "id": "2fae32ae-5a64-48d1-a443-8f41c78eedc9",
   "metadata": {},
   "outputs": [],
   "source": [
    "#what do you understand about mutable and immutable data type? give example for both showing this property."
   ]
  },
  {
   "cell_type": "code",
   "execution_count": 131,
   "id": "304196c8-86e9-412a-80c5-da0850296d2d",
   "metadata": {},
   "outputs": [],
   "source": [
    "l = [500,2,30,40,\"p\",\"rash\"]"
   ]
  },
  {
   "cell_type": "code",
   "execution_count": 134,
   "id": "e33cce9b-afdb-4ac0-b16b-b8c9a75a4a3f",
   "metadata": {},
   "outputs": [
    {
     "data": {
      "text/plain": [
       "list"
      ]
     },
     "execution_count": 134,
     "metadata": {},
     "output_type": "execute_result"
    }
   ],
   "source": [
    "type(l)"
   ]
  },
  {
   "cell_type": "code",
   "execution_count": 142,
   "id": "3ba68b53-396a-41bb-8172-1e61e06b7aa0",
   "metadata": {},
   "outputs": [],
   "source": [
    "l[5]=\"r\""
   ]
  },
  {
   "cell_type": "code",
   "execution_count": 137,
   "id": "c7860d31-4950-43c2-92ad-8d1ebb89a793",
   "metadata": {},
   "outputs": [],
   "source": [
    "l[0] = 200"
   ]
  },
  {
   "cell_type": "code",
   "execution_count": 138,
   "id": "53936d6b-4ee4-4e3c-b7ab-92affc6b2677",
   "metadata": {},
   "outputs": [
    {
     "data": {
      "text/plain": [
       "200"
      ]
     },
     "execution_count": 138,
     "metadata": {},
     "output_type": "execute_result"
    }
   ],
   "source": [
    "l[0]"
   ]
  },
  {
   "cell_type": "code",
   "execution_count": 143,
   "id": "3f54ef2b-0ab8-418a-9338-0366ec1eeb20",
   "metadata": {},
   "outputs": [
    {
     "data": {
      "text/plain": [
       "[200, 2, 30, 40, 'p', 'r']"
      ]
     },
     "execution_count": 143,
     "metadata": {},
     "output_type": "execute_result"
    }
   ],
   "source": [
    "l"
   ]
  },
  {
   "cell_type": "code",
   "execution_count": 144,
   "id": "9ca4fd3a-e5b6-44a9-972f-c3a5e4f81a6c",
   "metadata": {},
   "outputs": [],
   "source": [
    "# in list if index value is change then this called as mutable"
   ]
  },
  {
   "cell_type": "code",
   "execution_count": 145,
   "id": "cef4e588-8499-4520-90c8-cbb7b0a3451f",
   "metadata": {},
   "outputs": [],
   "source": [
    "a = \"rash\""
   ]
  },
  {
   "cell_type": "code",
   "execution_count": 146,
   "id": "9f498410-deff-4884-ae9d-dee49f749108",
   "metadata": {},
   "outputs": [
    {
     "data": {
      "text/plain": [
       "'rash'"
      ]
     },
     "execution_count": 146,
     "metadata": {},
     "output_type": "execute_result"
    }
   ],
   "source": [
    "a"
   ]
  },
  {
   "cell_type": "code",
   "execution_count": 147,
   "id": "c8c0c79b-e1be-4e86-833b-28c1f7a13e75",
   "metadata": {},
   "outputs": [
    {
     "data": {
      "text/plain": [
       "str"
      ]
     },
     "execution_count": 147,
     "metadata": {},
     "output_type": "execute_result"
    }
   ],
   "source": [
    "type(a)"
   ]
  },
  {
   "cell_type": "code",
   "execution_count": 151,
   "id": "173b1ddd-4afb-4bef-b853-34bd16a7ccde",
   "metadata": {},
   "outputs": [
    {
     "ename": "TypeError",
     "evalue": "'str' object does not support item assignment",
     "output_type": "error",
     "traceback": [
      "\u001b[0;31m---------------------------------------------------------------------------\u001b[0m",
      "\u001b[0;31mTypeError\u001b[0m                                 Traceback (most recent call last)",
      "Cell \u001b[0;32mIn[151], line 1\u001b[0m\n\u001b[0;32m----> 1\u001b[0m \u001b[43ma\u001b[49m\u001b[43m[\u001b[49m\u001b[38;5;241;43m0\u001b[39;49m\u001b[43m]\u001b[49m\u001b[38;5;241m=\u001b[39m \u001b[38;5;124m\"\u001b[39m\u001b[38;5;124mp\u001b[39m\u001b[38;5;124m\"\u001b[39m\n",
      "\u001b[0;31mTypeError\u001b[0m: 'str' object does not support item assignment"
     ]
    }
   ],
   "source": [
    "a[0]= \"p\""
   ]
  },
  {
   "cell_type": "code",
   "execution_count": 152,
   "id": "01173ec2-ee72-4117-8d5c-aff444b570e1",
   "metadata": {},
   "outputs": [
    {
     "data": {
      "text/plain": [
       "'rash'"
      ]
     },
     "execution_count": 152,
     "metadata": {},
     "output_type": "execute_result"
    }
   ],
   "source": [
    "a"
   ]
  },
  {
   "cell_type": "code",
   "execution_count": null,
   "id": "f55c63cf-e9df-420b-9b9c-b8874a7e22ff",
   "metadata": {},
   "outputs": [],
   "source": [
    "#it gives an error because the value of string at index is not changeble"
   ]
  }
 ],
 "metadata": {
  "kernelspec": {
   "display_name": "Python 3 (ipykernel)",
   "language": "python",
   "name": "python3"
  },
  "language_info": {
   "codemirror_mode": {
    "name": "ipython",
    "version": 3
   },
   "file_extension": ".py",
   "mimetype": "text/x-python",
   "name": "python",
   "nbconvert_exporter": "python",
   "pygments_lexer": "ipython3",
   "version": "3.10.8"
  }
 },
 "nbformat": 4,
 "nbformat_minor": 5
}
